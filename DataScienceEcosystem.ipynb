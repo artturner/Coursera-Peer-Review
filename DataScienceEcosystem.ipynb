{
 "cells": [
  {
   "cell_type": "markdown",
   "id": "dc0be85b-1d10-4efb-ba24-c3f879b4a183",
   "metadata": {},
   "source": [
    "# Data Science Tools and Ecosystem"
   ]
  },
  {
   "cell_type": "markdown",
   "id": "18710325-015a-4dc1-b400-9f59c1b23a8d",
   "metadata": {},
   "source": [
    "In this notebook, Data Science Tools and Ecosystem are summarized"
   ]
  },
  {
   "cell_type": "markdown",
   "id": "dd117fc9-f563-4495-9c52-2206be6e87ea",
   "metadata": {},
   "source": [
    "## Author\n",
    "Art Turner"
   ]
  },
  {
   "cell_type": "markdown",
   "id": "678507db-d45a-46d4-8fbf-83f7c60b8de5",
   "metadata": {},
   "source": [
    "**Objectives**\n",
    "+ List popular languages for Data Science\n",
    "+ List commonly used data science libraries\n",
    "+ List data science development environment tools\n",
    "+ Review examples of evaluating arithmetic expressions in Python"
   ]
  },
  {
   "cell_type": "markdown",
   "id": "f91f5614-7186-40ec-9ff7-cfc1cc4de750",
   "metadata": {},
   "source": [
    "Some of the popular languages that Data Scientists use are:\n",
    "1. Python\n",
    "2. R\n",
    "3. Julia\n",
    "4. Scala\n",
    "5. JavaScript\n",
    "6. Swift"
   ]
  },
  {
   "cell_type": "markdown",
   "id": "433d8c7f-168e-4109-968e-8e3237073cfa",
   "metadata": {},
   "source": [
    "Some of the commonly used libraries used by Data Scientists include:\n",
    "\n",
    "1. Numpy\n",
    "2. Pandas\n",
    "3. Scikit Learn\n",
    "4. ggplot2\n",
    "5. Matplotlib\n",
    "6. Seaborn\n"
   ]
  },
  {
   "cell_type": "markdown",
   "id": "637ff8bc-2da3-4d2a-835d-c8d052dce8ff",
   "metadata": {},
   "source": [
    "| Data Science Tools |\n",
    "| ------------------ |\n",
    "|Jupyter Notebooks|\n",
    "|RStudio|\n",
    "|GitHub|"
   ]
  },
  {
   "cell_type": "markdown",
   "id": "82c76796-0386-442d-abec-f9773d477204",
   "metadata": {},
   "source": [
    "### Below are a few examples of evaluating arithmetic expression in Python"
   ]
  },
  {
   "cell_type": "code",
   "execution_count": 2,
   "id": "7acc5952-893d-4283-9b0a-4491f472d3a3",
   "metadata": {
    "tags": []
   },
   "outputs": [
    {
     "data": {
      "text/plain": [
       "17"
      ]
     },
     "execution_count": 2,
     "metadata": {},
     "output_type": "execute_result"
    }
   ],
   "source": [
    "# This is a simple arithmetic expression to multiply then add integers\n",
    "(3*4)+5"
   ]
  },
  {
   "cell_type": "code",
   "execution_count": 5,
   "id": "a896c07a-563e-4ddf-845c-46860381d045",
   "metadata": {
    "tags": []
   },
   "outputs": [
    {
     "name": "stdout",
     "output_type": "stream",
     "text": [
      "200 minutes is  3.33  hours.\n"
     ]
    }
   ],
   "source": [
    "# This will convert 200 minutes to hours by dividing by 60\n",
    "minutes = 200\n",
    "hours = minutes / 60\n",
    "print(\"200 minutes is \", round(hours,2),\" hours.\")"
   ]
  },
  {
   "cell_type": "markdown",
   "id": "35350b97-02b7-4497-9b1c-8d2b3f17695a",
   "metadata": {},
   "source": []
  }
 ],
 "metadata": {
  "kernelspec": {
   "display_name": "Python",
   "language": "python",
   "name": "conda-env-python-py"
  },
  "language_info": {
   "codemirror_mode": {
    "name": "ipython",
    "version": 3
   },
   "file_extension": ".py",
   "mimetype": "text/x-python",
   "name": "python",
   "nbconvert_exporter": "python",
   "pygments_lexer": "ipython3",
   "version": "3.7.12"
  }
 },
 "nbformat": 4,
 "nbformat_minor": 5
}
